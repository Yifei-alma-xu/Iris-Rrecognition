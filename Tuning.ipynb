{
 "cells": [
  {
   "cell_type": "code",
   "execution_count": 1,
   "metadata": {},
   "outputs": [
    {
     "name": "stderr",
     "output_type": "stream",
     "text": [
      "/Users/fengyanglin/opt/anaconda3/lib/python3.7/site-packages/sklearn/utils/deprecation.py:143: FutureWarning: The sklearn.neighbors.nearest_centroid module is  deprecated in version 0.22 and will be removed in version 0.24. The corresponding classes / functions should instead be imported from sklearn.neighbors. Anything that cannot be imported from sklearn.neighbors is now part of the private API.\n",
      "  warnings.warn(message, FutureWarning)\n"
     ]
    }
   ],
   "source": [
    "import cv2\n",
    "import matplotlib.pyplot as plt\n",
    "import numpy as np\n",
    "\n",
    "from IrisLocalization import iris_localization\n",
    "from IrisNormalization import iris_normalization\n",
    "from ImageEnhancement import image_enhancement\n",
    "from FeatureExtraction import feature_extraction\n",
    "from IrisMatching import dimension_reduction, iris_matching\n",
    "from PerformanceEvaluation import generate_roc_curve, calc_crr, generate_crr_table\n",
    "\n",
    "IMG_PATH = \"./CASIA Iris Image Database (version 1.0)/\""
   ]
  },
  {
   "cell_type": "code",
   "execution_count": 2,
   "metadata": {},
   "outputs": [],
   "source": [
    "def load_dataset(img_folder=IMG_PATH):\n",
    "    x_train_img = []\n",
    "    y_train = []\n",
    "    x_test_img = []\n",
    "    y_test = []\n",
    "\n",
    "    for i in range(1, 109):\n",
    "        training_path = img_folder + str(i).zfill(3) + '/' + str(1) + '/'\n",
    "        for j in range(1, 4):\n",
    "            img_file_name = str(i).zfill(3) + f\"_{1}_\" + str(j) + \".bmp\"\n",
    "            img_color = cv2.imread(training_path + img_file_name)\n",
    "            img_RGB = cv2.cvtColor(img_color, cv2.COLOR_BGR2RGB)\n",
    "            img_gray = cv2.cvtColor(img_RGB, cv2.COLOR_BGR2GRAY)\n",
    "            x_train_img.append(img_gray)\n",
    "            y_train.append(i)\n",
    "\n",
    "    for i in range(1, 109):\n",
    "        testing_path = img_folder + str(i).zfill(3) + '/' + str(2) + '/'\n",
    "        for j in range(1, 5):\n",
    "            img_file_name = str(i).zfill(3) + \"_2_\" + str(j) + \".bmp\"\n",
    "            img_color = cv2.imread(testing_path + img_file_name)\n",
    "            img_RGB = cv2.cvtColor(img_color, cv2.COLOR_BGR2RGB)\n",
    "            img_gray = cv2.cvtColor(img_RGB, cv2.COLOR_BGR2GRAY)\n",
    "            x_test_img.append(img_gray)\n",
    "            y_test.append(i)\n",
    "    return x_train_img, x_test_img, np.array(y_train), np.array(y_test)\n",
    "\n",
    "\n",
    "def generate_features(x_img):\n",
    "    x = []\n",
    "    for i in range(len(x_img)):\n",
    "        img_gray = x_img[i]\n",
    "        pupil, iris = iris_localization(img_gray)\n",
    "        rect = iris_normalization(img_gray, pupil, iris)\n",
    "        rect_enhanced = image_enhancement(rect, img_gray)\n",
    "        rect_roi = rect_enhanced[0:48, :]\n",
    "        v = feature_extraction(rect_roi)\n",
    "        x.append(v)\n",
    "    return np.array(x)"
   ]
  },
  {
   "cell_type": "code",
   "execution_count": null,
   "metadata": {},
   "outputs": [],
   "source": [
    "#fengyang\n",
    "def generate_features(x_img):\n",
    "    x = []\n",
    "    for i in range(len(x_img)):\n",
    "        img_gray = x_img[i]\n",
    "        pupil, iris = iris_localization(img_gray)\n",
    "        rect = iris_normalization(img_gray, pupil, iris)\n",
    "        rect_enhanced = image_enhancement(img_gray, rect)\n",
    "        rect_roi = rect_enhanced[0:48, :]\n",
    "        v = feature_extraction(rect_roi)\n",
    "        x.append(v)\n",
    "    return np.array(x)"
   ]
  },
  {
   "cell_type": "code",
   "execution_count": null,
   "metadata": {},
   "outputs": [],
   "source": [
    "from IrisLocalization import iris_localization\n",
    "from IrisNormalization import iris_normalization\n",
    "from ImageEnhancement import image_enhancement"
   ]
  },
  {
   "cell_type": "code",
   "execution_count": null,
   "metadata": {},
   "outputs": [],
   "source": [
    "from fy_IrisLocalization import iris_localization\n",
    "from fy_IrisNormalization import iris_normalization\n",
    "from fy_ImageEnhancement import image_enhancement"
   ]
  },
  {
   "cell_type": "code",
   "execution_count": 5,
   "metadata": {},
   "outputs": [
    {
     "name": "stdout",
     "output_type": "stream",
     "text": [
      "# of training images: 324\n",
      "# of testing images: 432\n",
      "With l1 metric, CRR is 0.9305555555555556\n",
      "With l2 metric, CRR is 0.9328703703703703\n",
      "With cosine metric, CRR is 0.9282407407407407\n"
     ]
    },
    {
     "data": {
      "image/png": "[encoded data removed]",
      "text/plain": [
       "<Figure size 432x288 with 1 Axes>"
      ]
     },
     "metadata": {
      "needs_background": "light"
     },
     "output_type": "display_data"
    },
    {
     "name": "stdout",
     "output_type": "stream",
     "text": [
      "CPU times: user 1min 50s, sys: 6.8 s, total: 1min 57s\n",
      "Wall time: 53.2 s\n"
     ]
    }
   ],
   "source": [
    "%%time\n",
    "from fy_IrisLocalization import iris_localization\n",
    "from fy_IrisNormalization import iris_normalization\n",
    "from ImageEnhancement import image_enhancement\n",
    "\n",
    "x_train_img, x_test_img, y_train, y_test = load_dataset()\n",
    "print(f\"# of training images: {len(x_train_img)}\")\n",
    "print(f\"# of testing images: {len(x_test_img)}\")\n",
    "\n",
    "x_train, x_test = generate_features(x_train_img), generate_features(\n",
    "    x_test_img)\n",
    "x_train_lda, x_test_lda = dimension_reduction(x_train, x_test, y_train)\n",
    "\n",
    "clfs, y_preds = iris_matching(x_train_lda, y_train, x_test_lda)\n",
    "\n",
    "crr = calc_crr(y_preds, y_test)\n",
    "generate_crr_table(crr)\n",
    "generate_roc_curve(clfs, y_preds, x_test_lda, y_test)"
   ]
  },
  {
   "cell_type": "code",
   "execution_count": null,
   "metadata": {},
   "outputs": [],
   "source": []
  }
 ],
 "metadata": {
  "kernelspec": {
   "display_name": "Python 3",
   "language": "python",
   "name": "python3"
  },
  "language_info": {
   "codemirror_mode": {
    "name": "ipython",
    "version": 3
   },
   "file_extension": ".py",
   "mimetype": "text/x-python",
   "name": "python",
   "nbconvert_exporter": "python",
   "pygments_lexer": "ipython3",
   "version": "3.7.4"
  }
 },
 "nbformat": 4,
 "nbformat_minor": 4
}
